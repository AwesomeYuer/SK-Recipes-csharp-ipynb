{
 "cells": [
  {
   "attachments": {},
   "cell_type": "markdown",
   "metadata": {},
   "source": [
    "# 🤔 Why are you here?\n",
    "\n",
    "You're likely here because you've heard of, or directly seen, the amazing things happening in the AI space using Large Language Model (LLM) AI. The best way to learn something new is to have a hands-on learning experience — this GitHub repo will let you do some of that, we hope. Semantic Kernel (SK) is an open-source project to be intentionally inclusive of folks at all levels of capability so that the productivity benefits of LLM AI can be more accessible to everyone. SK's been created to make it easy for folks to add LLM AI to your app without a deep background in computer programming. If this sounds like you, then you've definitely at the right place.\n",
    "\n",
    "## Building with Semantic Kernel is like cooking\n",
    "\n",
    "One of the inspirations for Semantic Kernel's conceptual design is the NYT bestselling cook book by Samin Nosrat entitled, [\"Salt Fat Acid Heat\"](https://www.nytimes.com/2018/11/26/t-magazine/samin-nosrat-salt-fat-acid-heat-most-prized-possession.html) and star of [the mini-series](https://www.netflix.com/title/80198288) of the same name on Netflix. Nosrat lays out four key elements to all successful cooked meals as carefully integrating:\n",
    "\n",
    "1. 🧂 Salt: Core and essential\n",
    "2. 🥑 Fat: Rich and full-bodied\n",
    "3. 🍋 Acid: Fresh and zesty\n",
    "4. 🔥 Heat: Powerful and alchemy\n",
    "\n",
    "For example, think of the popular dish \"avocado toast\" and how important the quality of 🧂 salt, 🥑 fat, 🍋 acid, and 🔥 heat can be to that breakfast staple. \n",
    "\n",
    "Like Nosrat's special recipe for cooking a great meal, SK has four key elements for using LLMs to cook terrific AI experiences:\n",
    "\n",
    "| 🍽️ Analogue | SK | Description |\n",
    "|---|---|---|\n",
    "| 🧂 Salt | Skills | Core LLM AI building blocks to use and reuse |\n",
    "| 🥑 Fat | Memories | Rich contextual info to upgrade LLM AI prompting |\n",
    "| 🍋 Acid | Connectors | Fresh realtime data and capabilities for LLM AI |\n",
    "| 🔥 Heat | Kernel | Powerful orchestrator of Asks to the LLM AI |\n"
   ]
  },
  {
   "cell_type": "code",
   "execution_count": null,
   "metadata": {},
   "outputs": [],
   "source": []
  }
 ],
 "metadata": {
  "language_info": {
   "name": "python"
  },
  "orig_nbformat": 4
 },
 "nbformat": 4,
 "nbformat_minor": 2
}
