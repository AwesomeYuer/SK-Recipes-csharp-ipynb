{
 "cells": [
  {
   "attachments": {},
   "cell_type": "markdown",
   "metadata": {},
   "source": [
    "---\n",
    "\n",
    "### 📘 After you have achieved all the prerequisites from the very first [notebook](../00-ez-starter-notebook/notebook.ipynb), open this notebook from within Visual Studio Code and you are ready to to go!\n",
    "\n",
    "---"
   ]
  },
  {
   "attachments": {},
   "cell_type": "markdown",
   "metadata": {},
   "source": [
    "# 💬💨 Make your own super simple ChatGPT clone\n",
    "The magic of chat using LLM AI is that it's extremely simple to implement. If you're still feeling unsure about semantic functions, catch up [here](https://learn.microsoft.com/en-us/semantic-kernel/howto/semanticfunctions). "
   ]
  },
  {
   "attachments": {},
   "cell_type": "markdown",
   "metadata": {},
   "source": [
    "## 1️⃣ Let's get started by instantiating a kernel\n",
    "\n",
    "You've already set up your API key information, so this should be an easy ▶️ and you're good to go."
   ]
  },
  {
   "cell_type": "code",
   "execution_count": 1,
   "metadata": {
    "dotnet_interactive": {
     "language": "csharp"
    },
    "polyglot_notebook": {
     "kernelName": "csharp"
    }
   },
   "outputs": [
    {
     "data": {
      "text/html": [
       "<div><div></div><div></div><div><strong>Installed Packages</strong><ul><li><span>Microsoft.SemanticKernel, 0.8.48.1-preview</span></li></ul></div></div>"
      ]
     },
     "metadata": {},
     "output_type": "display_data"
    }
   ],
   "source": [
    "#r \"nuget: Microsoft.SemanticKernel, *-*\"\n",
    "\n",
    "#!import ../config/Settings.cs\n",
    "\n",
    "using Microsoft.SemanticKernel;\n",
    "using Microsoft.SemanticKernel.KernelExtensions;\n",
    "using System.IO;\n",
    "using Microsoft.SemanticKernel.Configuration;\n",
    "using Microsoft.SemanticKernel.SemanticFunctions;\n",
    "\n",
    "IKernel kernel = Microsoft.SemanticKernel.Kernel.Builder.Build();\n",
    "\n",
    "// Grab the locally stored credentials from the settings.json file. Name the \"backend\" as \"davinci\" — assuming that you're using one of the davinci completion models. \n",
    "\n",
    "var (useAzureOpenAI, model, azureEndpoint, apiKey, orgId) = Settings.LoadFromFile();\n",
    "\n",
    "if (useAzureOpenAI)\n",
    "    kernel.Config.AddAzureOpenAICompletionBackend(\"davinci\", model, azureEndpoint, apiKey);\n",
    "else\n",
    "    kernel.Config.AddOpenAICompletionBackend(\"davinci\", model, apiKey, orgId);"
   ]
  },
  {
   "attachments": {},
   "cell_type": "markdown",
   "metadata": {},
   "source": [
    "😱 **Get an error message?** The [first notebook](../00-ez-starter-notebook/notebook.ipynb) walks you through this process so you should be all set. But if you're still stuck, go to https://aka.ms/sk/discord where we have realtime support."
   ]
  },
  {
   "attachments": {},
   "cell_type": "markdown",
   "metadata": {},
   "source": [
    "## 2️⃣ Use the `ChatSkill.Chat` function to make a chatting AI in no time\n",
    "\n",
    "We will be using the `Chat` semantic function that is accessible within the `ChatSkill` subdirectory of `skills`\n",
    "\n",
    "```\n",
    "📁 skills\n",
    "│\n",
    "└─── 📁 FunSkill\n",
    "└─── 📁 ChatSkill\n",
    "     |\n",
    "     └─── 📁 Chat\n",
    "     └─── 📁 ChatPersona\n",
    "```\n",
    "\n",
    "And with that, let's get the LLM AI to tell us talk to us."
   ]
  },
  {
   "attachments": {},
   "cell_type": "markdown",
   "metadata": {},
   "source": [
    "### 💬 Create a simple chat loop with Semantic Kernel\n",
    "\n",
    "You'll be surprised to see how easy it is to make a chat happen with semantic functions. It's easy as `history += <the new chat exchange>`!"
   ]
  },
  {
   "cell_type": "code",
   "execution_count": null,
   "metadata": {
    "dotnet_interactive": {
     "language": "csharp"
    },
    "polyglot_notebook": {
     "kernelName": "csharp"
    }
   },
   "outputs": [],
   "source": [
    "using Microsoft.SemanticKernel.Orchestration;\n",
    "using InteractiveKernel = Microsoft.DotNet.Interactive.Kernel;\n",
    "\n",
    "// Load the Skills Directory\n",
    "var skillsDirectory = Path.Combine(System.IO.Directory.GetCurrentDirectory(), \"skills\");\n",
    "\n",
    "// Load the Chat function from the FunSkill\n",
    "var skill = kernel.ImportSemanticSkillFromDirectory(skillsDirectory, \"ChatSkill\");\n",
    "\n",
    "var myContext = new ContextVariables(); \n",
    "var botPrompt = \"AI: Hello. What's your name?\";\n",
    "var history = $\"{botPrompt}\\n\";\n",
    "\n",
    "const int numberOfRounds = 3;\n",
    "\n",
    "myContext.Set(\"history\", history); \n",
    "\n",
    "for(var i = 0; i < numberOfRounds; i++) {\n",
    "    try {\n",
    "        // get input from the user and set the context variable\n",
    "        Console.WriteLine(\"👆 Enter text in the input cell above to chat with the bot. 👆\\n\");\n",
    "        var input = await InteractiveKernel.GetInputAsync(botPrompt);\n",
    "        myContext.Set(\"input\", input); \n",
    "\n",
    "        // run the chat function\n",
    "        var myResult = await kernel.RunAsync(myContext,skill[\"Chat\"]);\n",
    "\n",
    "        // tack onto the history 👇 what's come back from the model\n",
    "        /********************************************************/\n",
    "        var theNewChatExchange = $\"Me: {input}\\nAI:{myResult}\\n\";\n",
    "        history += theNewChatExchange;\n",
    "        myContext.Set(\"history\", history); \n",
    "        /********************************************************/\n",
    "        // this way the new chat exchange gets passed into the next round\n",
    "\n",
    "        // announce the number of rounds and the history\n",
    "        Console.WriteLine($\"Chat for {i+1} of {numberOfRounds} rounds with {botName}:\\n{history}\");\n",
    "\n",
    "        // prepare to \"prompt\" the user with the bot's response\n",
    "        botPrompt = $\"AI: {myResult}\";\n",
    "    } catch {\n",
    "        // if the user hits \"Escape\" we end the chat early\n",
    "        Console.WriteLine(\"AI: Thanks for the wonderful chat!\");\n",
    "        break;\n",
    "    }\n",
    "}"
   ]
  },
  {
   "attachments": {},
   "cell_type": "markdown",
   "metadata": {},
   "source": [
    "### 🗯️ BONUS: Create a chat loop with a personality of your choice\n",
    "\n",
    "The accrual of `history += theNewChatExchange` is a beautiful thing to notice. This is the basic mechanism whereby the chats you have with ChatGPT can feel so realistic. That's because the prompt is getting slightly longer and longer as you chat. The reason \"it gets you\" is because it hasn't forgotten what it's chatted with you in the past. \n",
    "\n",
    "Yet another facet to consider is how you're able to change the personality of the bot so easily. We'll use the `ChatSkill.ChatPersonality` function to do so with its added `$personality` context variable."
   ]
  },
  {
   "cell_type": "code",
   "execution_count": null,
   "metadata": {
    "dotnet_interactive": {
     "language": "csharp"
    },
    "polyglot_notebook": {
     "kernelName": "csharp"
    }
   },
   "outputs": [],
   "source": [
    "using Microsoft.SemanticKernel.Orchestration;\n",
    "using InteractiveKernel = Microsoft.DotNet.Interactive.Kernel;\n",
    "\n",
    "// Load the Skills Directory\n",
    "var skillsDirectory = Path.Combine(System.IO.Directory.GetCurrentDirectory(), \"skills\");\n",
    "\n",
    "// Load the Chat function from the FunSkill\n",
    "var skill = kernel.ImportSemanticSkillFromDirectory(skillsDirectory, \"ChatSkill\");\n",
    "\n",
    "var myContext = new ContextVariables(); \n",
    "var botName = \"AI\";\n",
    "\n",
    "// Choose a personality here 👇 ...\n",
    "/*********************************************************************/\n",
    "var personality = \"grumpy, disagreeable, and not willing to converse\";\n",
    "/*********************************************************************/\n",
    "\n",
    "var botPrompt = $\"AI: Hello. What's your name? Honestly I'm {personality} today.\";\n",
    "var history = $\"{botPrompt}\\n\";\n",
    "\n",
    "const int numberOfRounds = 3;\n",
    "\n",
    "myContext.Set(\"history\", history); \n",
    "myContext.Set(\"personality\", personality);\n",
    "\n",
    "for(var i = 0; i < numberOfRounds; i++) {\n",
    "    try {\n",
    "        // get input from the user and set the context variable\n",
    "        Console.WriteLine(\"👆 Enter text in the input cell above to chat with the bot. 👆\\n\");\n",
    "        var input = await InteractiveKernel.GetInputAsync(botPrompt);\n",
    "        myContext.Set(\"input\", input); \n",
    "\n",
    "        // run the chat function\n",
    "        var myResult = await kernel.RunAsync(myContext,skill[\"ChatPersonality\"]);\n",
    "\n",
    "        // tack onto the history what's come out\n",
    "        var theNewChatExchange = $\"Me: {input}\\nAI:{myResult}\\n\";\n",
    "        history += theNewChatExchange;\n",
    "        myContext.Set(\"history\", history); \n",
    "\n",
    "        // announce the number of rounds and the history\n",
    "        Console.WriteLine($\"Chat for {i+1} of {numberOfRounds} rounds with {botName}:\\n{history}\");\n",
    "\n",
    "        // prepare to \"prompt\" the user with the bot's response\n",
    "        botPrompt = $\"AI: {myResult}\";\n",
    "    } catch {\n",
    "        // if the user hits \"Escape\" we end the chat early\n",
    "        Console.WriteLine($\"AI: Thanks for the wonderful chat!\");\n",
    "        break;\n",
    "    }\n",
    "}"
   ]
  },
  {
   "attachments": {},
   "cell_type": "markdown",
   "metadata": {},
   "source": [
    "# ⏭️ Next Steps\n",
    "\n",
    "Run through more advanced examples in the notebooks that are available in our GitHub repo at [https://aka.ms/sk/repo](https://aka.ms/sk/repo).\n",
    "\n",
    "Or stay a longer while and change the `config.json` files to see how the different semantic functions behave. Or completely rewrite one of the functions that's been made available."
   ]
  }
 ],
 "metadata": {
  "kernelspec": {
   "display_name": ".NET (C#)",
   "language": "C#",
   "name": ".net-csharp"
  },
  "language_info": {
   "name": "polyglot-notebook"
  },
  "polyglot_notebook": {
   "kernelInfo": {
    "defaultKernelName": "csharp",
    "items": [
     {
      "aliases": [],
      "languageName": "csharp",
      "name": "csharp"
     }
    ]
   }
  }
 },
 "nbformat": 4,
 "nbformat_minor": 2
}
