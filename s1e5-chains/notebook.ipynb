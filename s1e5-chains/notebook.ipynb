{
 "cells": [
  {
   "attachments": {},
   "cell_type": "markdown",
   "metadata": {},
   "source": [
    "\n",
    "---\n",
    "\n",
    "### This 📘 notebook needs to be run from VS Code with [these prerequisites](https://github.com/johnmaeda/SK-Recipes#-prerequisites-to-getting-started-with-the-notebooks-in-this-repo).\n",
    "\n",
    "How to use this notebook: \n",
    "\n",
    "* Just read the text and scroll along until you run into code blocks.\n",
    "* Code blocks have computer code inside them — hover over the block and you can run the code.\n",
    "* Run the code by hitting the ▶️ \"play\" button to the left. If the code runs you'll see a ✔️. If not, you'll get a ❌.\n",
    "* The output and status of the code block will appear just below itself — you need to scroll down further to see it.\n",
    "* Sometimes a code block will ask you for input in a hard-to-notice dialog box 👆 at the top of your notebook window. \n",
    "\n",
    "---"
   ]
  },
  {
   "attachments": {},
   "cell_type": "markdown",
   "metadata": {},
   "source": [
    "# S1E5 • Build Chain 🧂🧂🧂🔥 Reactions\n",
    "\n",
    "When people ask me why Semantic Kernel has its slightly odd name, the simple and truthful answer is that the initial conceiver of SK, Deputy CTO of Microsoft Sam Schillace, has been a long admirer of the simplicity of the UNIX kernel. UNIX was a radical departure in operating systems for its simplicity and flexibility — especially when it came to a concept called \"pipes.\" UNIX commands were easy to string together into a chain reaction like:\n",
    "\n",
    "`% do-something | do-more-stuff | do-even-more-stuff >> drop-it-all-in-here.txt`\n",
    "\n",
    "SK lets you do the same thing with the ability to compose functions together as in a chain of functions that take an input that produces an output, and they are connected end-to-end. For example, let's imagine we want to take a bunch of feedback items from customers and understand their painpoints. We can use the `DesignThinkingSkill.Empathize` to give that a go.\n",
    "\n",
    "## Step 1. Instantiate a 🔥 kernel"
   ]
  },
  {
   "cell_type": "code",
   "execution_count": null,
   "metadata": {
    "dotnet_interactive": {
     "language": "csharp"
    },
    "polyglot_notebook": {
     "kernelName": "csharp"
    },
    "vscode": {
     "languageId": "polyglot-notebook"
    }
   },
   "outputs": [],
   "source": [
    "#r \"nuget: Microsoft.SemanticKernel, 0.8.56.1-preview\"\n",
    "\n",
    "#!import ../config/Settings.cs\n",
    "\n",
    "using Microsoft.SemanticKernel;\n",
    "using Microsoft.SemanticKernel.KernelExtensions;\n",
    "using System.IO;\n",
    "using Microsoft.SemanticKernel.Configuration;\n",
    "using Microsoft.SemanticKernel.SemanticFunctions;\n",
    "\n",
    "IKernel kernel = Microsoft.SemanticKernel.Kernel.Builder.Build();\n",
    "\n",
    "// Grab the locally stored credentials from the settings.json file. Name the \"backend\" as \"davinci\" — assuming that you're using one of the davinci completion models. \n",
    "\n",
    "var (useAzureOpenAI, model, azureEndpoint, apiKey, orgId) = Settings.LoadFromFile();\n",
    "\n",
    "if (useAzureOpenAI)\n",
    "    kernel.Config.AddAzureOpenAICompletionBackend(\"davinci\", model, azureEndpoint, apiKey);\n",
    "else\n",
    "    kernel.Config.AddOpenAICompletionBackend(\"davinci\", model, apiKey, orgId);"
   ]
  },
  {
   "attachments": {},
   "cell_type": "markdown",
   "metadata": {},
   "source": [
    "## Step 2: Load up a 🧂 skill and 🔥 up the kernel"
   ]
  },
  {
   "cell_type": "code",
   "execution_count": null,
   "metadata": {
    "dotnet_interactive": {
     "language": "csharp"
    },
    "polyglot_notebook": {
     "kernelName": "csharp"
    },
    "vscode": {
     "languageId": "polyglot-notebook"
    }
   },
   "outputs": [],
   "source": [
    "using System.Text.Json;\n",
    "using System.Text.Json.Serialization;\n",
    "\n",
    "// Load the Skills Directory\n",
    "var skillsDirectory = Path.Combine(System.IO.Directory.GetCurrentDirectory(), \"skills\");\n",
    "\n",
    "// Load the EmpathizeSkill from the Skills Directory\n",
    "var skillDT = kernel.ImportSemanticSkillFromDirectory(skillsDirectory, \"DesignThinkingSkill\");\n",
    "\n",
    "// The default input variable \n",
    "var input = @\"\n",
    "Customer 1: The power button on my phone is broken. The warranty is still valid.\n",
    "Customer 2: My display stopped working.\n",
    "Customer 3: The customer service rep didn't answer my email.\n",
    "Customer 4: Every time I call customer support I get no answer.\n",
    "Customer 5: The display screen cracked and it's still under warranty.\n",
    "Customer 6: My power button fell off the phone. That's ridiculous.\n",
    "Customer 7: I'm so frustrated with this company.\n",
    "Customer 8: When I use the power button too much, it stops working.\n",
    "\";\n",
    "\n",
    "var empathyResult = await kernel.RunAsync(input, skillDT[\"Empathize\"]);\n",
    "\n",
    "Console.WriteLine(empathyResult);"
   ]
  },
  {
   "attachments": {},
   "cell_type": "markdown",
   "metadata": {},
   "source": [
    "![](../assets/empathize.png) This is commonly known as the \"Empathize\" phase of Stanford University's approach to \"Design Thinking\" with the other phases being: Define, Ideate, Prototype, Test."
   ]
  },
  {
   "attachments": {},
   "cell_type": "markdown",
   "metadata": {},
   "source": [
    "## Step 3. 🧂🔥 Turn the empathy insights into problem definitions\n",
    "\n",
    "We can take this analysis and feed it into a problem-definer skill we have in the `DesignThinkingSkill` toolkit:"
   ]
  },
  {
   "cell_type": "code",
   "execution_count": null,
   "metadata": {
    "dotnet_interactive": {
     "language": "csharp"
    },
    "polyglot_notebook": {
     "kernelName": "csharp"
    },
    "vscode": {
     "languageId": "polyglot-notebook"
    }
   },
   "outputs": [],
   "source": [
    "\n",
    "// Load the Skills Directory\n",
    "var skillsDirectory = Path.Combine(System.IO.Directory.GetCurrentDirectory(), \"skills\");\n",
    "\n",
    "// Load the EmpathizeSkill from the Skills Directory\n",
    "var skillDT = kernel.ImportSemanticSkillFromDirectory(skillsDirectory, \"DesignThinkingSkill\");\n",
    "\n",
    "var defineResult = await kernel.RunAsync(empathyResult.ToString(), skillDT[\"Define\"]);\n",
    "\n",
    "Console.WriteLine(defineResult);"
   ]
  },
  {
   "attachments": {},
   "cell_type": "markdown",
   "metadata": {},
   "source": [
    "## Step 4. 🧂🔥 Brainstorm ideas to address the problems\n",
    "\n",
    "And if we were in a mood to attempt to solve their problem, we could use the `DesignThinkingSkill.Ideate` function to brainstorm ideas to address the problems as easy versus difficult:"
   ]
  },
  {
   "cell_type": "code",
   "execution_count": null,
   "metadata": {
    "dotnet_interactive": {
     "language": "csharp"
    },
    "polyglot_notebook": {
     "kernelName": "csharp"
    },
    "vscode": {
     "languageId": "polyglot-notebook"
    }
   },
   "outputs": [],
   "source": [
    "\n",
    "// Load the Skills Directory\n",
    "var skillsDirectory = Path.Combine(System.IO.Directory.GetCurrentDirectory(), \"skills\");\n",
    "\n",
    "// Load the EmpathizeSkill from the Skills Directory\n",
    "var skillDT = kernel.ImportSemanticSkillFromDirectory(skillsDirectory, \"DesignThinkingSkill\");\n",
    "\n",
    "var ideateResult = await kernel.RunAsync(defineResult.ToString(), skillDT[\"Ideate\"]);\n",
    "\n",
    "Console.WriteLine(ideateResult);"
   ]
  },
  {
   "attachments": {},
   "cell_type": "markdown",
   "metadata": {},
   "source": [
    "## Step 6. 🧂🧂🧂🔥 Do it all again, but as a chain reaction \n",
    "\n",
    "Each step unlocks more power. But what if we could just chain these all together instead of just incrementally process them. That would set a chain reaction in motion from customer support logs all the way to ideas of how to address their concerns. Let's build that:"
   ]
  },
  {
   "cell_type": "code",
   "execution_count": null,
   "metadata": {
    "dotnet_interactive": {
     "language": "csharp"
    },
    "polyglot_notebook": {
     "kernelName": "csharp"
    },
    "vscode": {
     "languageId": "polyglot-notebook"
    }
   },
   "outputs": [],
   "source": [
    "using System.Text.Json;\n",
    "using System.Text.Json.Serialization;\n",
    "\n",
    "// Load the Skills Directory\n",
    "var skillsDirectory = Path.Combine(System.IO.Directory.GetCurrentDirectory(), \"skills\");\n",
    "\n",
    "// Load the EmpathizeSkill from the Skills Directory\n",
    "var skillDT = kernel.ImportSemanticSkillFromDirectory(skillsDirectory, \"DesignThinkingSkill\");\n",
    "\n",
    "var input = @\"\n",
    "Customer 1: The power button on my phone is broken. The warranty is still valid.\n",
    "Customer 2: My display stopped working.\n",
    "Customer 3: The customer service rep didn't answer my email.\n",
    "Customer 4: Every time I call customer support I get no answer.\n",
    "Customer 5: The display screen cracked and it's still under warranty.\n",
    "Customer 6: My power button fell off the phone. That's ridiculous.\n",
    "Customer 7: I'm so frustrated with this company.\n",
    "Customer 8: When I use the power button too much, it stops working.\n",
    "\";\n",
    "\n",
    "var result = await kernel.RunAsync(input, skillDT[\"Empathize\"], skillDT[\"Define\"], skillDT[\"Ideate\"]);\n",
    "\n",
    "Console.WriteLine(result);"
   ]
  },
  {
   "attachments": {},
   "cell_type": "markdown",
   "metadata": {},
   "source": [
    "Neat, huh? We just connected each of the functions together so the first input goes into the next output, goes into a new input, and sends out a new output, etc."
   ]
  }
 ],
 "metadata": {
  "language_info": {
   "name": "python"
  },
  "orig_nbformat": 4
 },
 "nbformat": 4,
 "nbformat_minor": 2
}
