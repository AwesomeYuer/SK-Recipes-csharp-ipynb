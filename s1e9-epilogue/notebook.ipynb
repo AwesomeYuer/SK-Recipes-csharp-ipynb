{
 "cells": [
  {
   "attachments": {},
   "cell_type": "markdown",
   "metadata": {},
   "source": [
    "# S1E9 • 🧂🥑🍋🔥 Epilogue\n",
    "\n",
    "# UNDER CONSTRUCTION"
   ]
  },
  {
   "attachments": {},
   "cell_type": "markdown",
   "metadata": {},
   "source": [
    "## For now you can watch the Design in Tech Report presentation on [\"Design and Artificial Intelligence\"](https://youtu.be/_tAs0kWEXe0) from SXSW 2023 (March 17) to get a pre-gist of the ideas below."
   ]
  },
  {
   "attachments": {},
   "cell_type": "markdown",
   "metadata": {},
   "source": [
    "We're all realizing now\n",
    "- The AI ketchup bottle moment\n",
    "- That more models are coming\n",
    "\n",
    "We're struggling to adopt the switch\n",
    "- AI from specialized knives\n",
    "- AI to general-use scissors\n",
    "\n",
    "We best release our fears by ... cooking\n",
    "- 🧂 Salt (essential), 🥑 Fat (richness), 🍋 Acid (zestiness), 🔥 Heat (catalyst)\n",
    "- 🧂 SKILLS, 🥑 MEMORIES, 🍋 CONNECTORS, 🔥 KERNEL\n",
    "\n",
    "And get excited by tasting more outcomes instead of just outputs\n",
    "- LIVE design x ai thinking as the new normal for innovation efforts not stuck in post-it note walls\n",
    "- RESULT = simplicity: Do less of what you don't like to do, to do more of what you love to do"
   ]
  },
  {
   "cell_type": "code",
   "execution_count": null,
   "metadata": {
    "dotnet_interactive": {
     "language": "csharp"
    },
    "polyglot_notebook": {
     "kernelName": "csharp"
    },
    "vscode": {
     "languageId": "polyglot-notebook"
    }
   },
   "outputs": [],
   "source": []
  }
 ],
 "metadata": {
  "language_info": {
   "name": "python"
  },
  "orig_nbformat": 4
 },
 "nbformat": 4,
 "nbformat_minor": 2
}
