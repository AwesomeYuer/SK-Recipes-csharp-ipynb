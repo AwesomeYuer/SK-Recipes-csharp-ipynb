{
 "cells": [
  {
   "attachments": {},
   "cell_type": "markdown",
   "metadata": {},
   "source": [
    "realizing now\n",
    "- ai ketchup bottle moment\n",
    "- more models are coming\n",
    "\n",
    "the switch\n",
    "- AI from specialized knives\n",
    "- AI to general-use scissors\n",
    "\n",
    "get cooking\n",
    "- 🧂Salt, 🥑 Fat, 🍋Acid, 🔥 Heat\n",
    "- 🧂SKILLS, 🥑 MEMORIES, 🍋 CONNECTORS, 🔥 KERNEL\n",
    "\n",
    "results in moving to outcomes over outputs\n",
    "- live design x ai thinking\n",
    "- realize simplicity: less of what you don't like to do, to get to do more of what you love to do"
   ]
  },
  {
   "cell_type": "code",
   "execution_count": null,
   "metadata": {
    "dotnet_interactive": {
     "language": "csharp"
    },
    "polyglot_notebook": {
     "kernelName": "csharp"
    },
    "vscode": {
     "languageId": "polyglot-notebook"
    }
   },
   "outputs": [],
   "source": []
  }
 ],
 "metadata": {
  "language_info": {
   "name": "python"
  },
  "orig_nbformat": 4
 },
 "nbformat": 4,
 "nbformat_minor": 2
}
