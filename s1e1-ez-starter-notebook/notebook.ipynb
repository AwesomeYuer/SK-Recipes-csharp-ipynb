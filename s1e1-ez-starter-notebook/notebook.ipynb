{
 "cells": [
  {
   "attachments": {},
   "cell_type": "markdown",
   "metadata": {},
   "source": [
    "## 🏁 Prerequisites to getting started with this notebook\n",
    "\n",
    "Software that needs to be installed on your computer:\n",
    "\n",
    "* ✅ [Visual Studio Code](https://code.visualstudio.com/Download)\n",
    "* ✅ The latest [.Net 7.0 SDK](https://dotnet.microsoft.com/en-us/download) \n",
    "* ✅ [Polyglot Notebooks for VS Code](https://marketplace.visualstudio.com/items?itemName=ms-dotnettools.dotnet-interactive-vscode)\n",
    "\n",
    "When the three items above are installed, this notebook should be formatted nicely with code blocks that have a little ▶️ (play) button next to them. This lets you run the code from within Visual Studio Code and serves as a little playground for your initial Semantic Kernel leranings.\n",
    "\n",
    "Separate from installing software, you will need to have an API key to access the OpenAI models. \n",
    "\n",
    "* ✅ OpenAI key via [OpenAI](https://openai.com/product) or [Azure OpenAI Service](https://learn.microsoft.com/en-us/azure/cognitive-services/openai/quickstart). Access your API key on OpenAI with [these instructions](https://help.openai.com/en/articles/4936850-where-do-i-find-my-secret-api-key), or on Azure Open AI Service with [these instructions](https://learn.microsoft.com/en-us/azure/cognitive-services/openai/reference).\n",
    "\n",
    "---\n",
    "\n",
    "### 📘 After you have achieved all the 👆 prerequisites, open this notebook from within Visual Studio Code and you are ready to to go!\n",
    "\n",
    "---"
   ]
  },
  {
   "attachments": {},
   "cell_type": "markdown",
   "metadata": {},
   "source": [
    "# 🏎️💨 Semantic Kernel For Beginners\n",
    "\n",
    "This notebook has been designed to get you started quickly with Semantic Kernel — the easy way to add LLM AI to your app. It's in three parts:\n",
    "\n",
    "1. **Setting up your OpenAI or Azure OpenAI Service key.** This lets you use this notebook like a playground of sorts. And you only have to enter your key once to get going — it stores it locally into a file called \"settings.json\" on your disk. ⚠️ Be sure to not let that file show up publicly anywhere like on your personal GitHub repo — so please .gitignore it.\n",
    "\n",
    "2. **Getting a kernel instantiated.** With your OpenAI or Azure OpenAI key you can then create a kernel to send instructions to. We've made it easy for you to use either OpenAI or Azure OpenAI. When using OpenAI, it will default to your using the `text-davinci-003` model; when you use Azure OpenAI there's an extra endpoint setting to consider — and in addition you're asked explicitly for the model you would like to use.\n",
    "\n",
    "3. **Run a semantic function.** Okay! You're ready to give your LLM AI a natural language prompt expressed as natural language. We call this kind of interaction with the model \"semantic\" because it lives in the world of the underlying meaning of the text you give to the model. "
   ]
  },
  {
   "attachments": {},
   "cell_type": "markdown",
   "metadata": {},
   "source": [
    "## 1️⃣ Set up your OpenAI or Azure OpenAI Service key\n",
    "\n",
    "The boolean variable `useAzureOpenAI` should be set to `false` if you are using a regular OpenAI key, and `true` if you have an Azure OpenAI Service key. Whichever way you set the variable, a rectangular box will appear at the 👆 top 👆 of the notebook page — asking you to enter the credentials. These credentials are stored locally on your own disk and don't go anywhere else. Once you hit the ▶️ button below, be sure to 👆 look up to the top of this notebook page to enter your creds."
   ]
  },
  {
   "cell_type": "code",
   "execution_count": 7,
   "metadata": {
    "dotnet_interactive": {
     "language": "csharp"
    },
    "polyglot_notebook": {
     "kernelName": "csharp"
    }
   },
   "outputs": [
    {
     "name": "stdout",
     "output_type": "stream",
     "text": [
      "Settings: OK: AI model configured [../config/settings.json]\n",
      "Settings: OK: API key configured [../config/settings.json]\n"
     ]
    }
   ],
   "source": [
    "#!import ../config/Settings.cs\n",
    "\n",
    "bool useAzureOpenAI = false;\n",
    "\n",
    "await Settings.AskAzureEndpoint(useAzureOpenAI);\n",
    "await Settings.AskModel(useAzureOpenAI);\n",
    "await Settings.AskApiKey(useAzureOpenAI);"
   ]
  },
  {
   "attachments": {},
   "cell_type": "markdown",
   "metadata": {},
   "source": [
    "### 🔴 To reset your locally stored credentials ...\n",
    "\n",
    "Only press the ▶️ button below if you want to reset what you entered above. \n",
    "\n",
    "If you're all set, just skip ahead to the **Get a kernel instantiated** section."
   ]
  },
  {
   "cell_type": "code",
   "execution_count": 4,
   "metadata": {
    "dotnet_interactive": {
     "language": "csharp"
    },
    "polyglot_notebook": {
     "kernelName": "csharp"
    }
   },
   "outputs": [],
   "source": [
    "#!import ../config/Settings.cs\n",
    "\n",
    "// Uncomment this line to reset your settings and delete the settings.json file from disk.\n",
    "// Settings.Reset();"
   ]
  },
  {
   "attachments": {},
   "cell_type": "markdown",
   "metadata": {},
   "source": [
    "## 2️⃣ Get a kernel instantiated\n",
    "\n",
    "Congratulations! You're one-third of the way there! Hit ▶️ below to access the locally stored credentials you set up in the first step. This step loads the Microsoft.SemanticKernel package and gets the rest of the notebook prepared to get your semantic function running asap."
   ]
  },
  {
   "cell_type": "code",
   "execution_count": 9,
   "metadata": {
    "dotnet_interactive": {
     "language": "csharp"
    },
    "polyglot_notebook": {
     "kernelName": "csharp"
    }
   },
   "outputs": [
    {
     "data": {
      "text/html": [
       "<div><div></div><div></div><div><strong>Installed Packages</strong><ul><li><span>Microsoft.SemanticKernel, 0.8.48.1-preview</span></li></ul></div></div>"
      ]
     },
     "metadata": {},
     "output_type": "display_data"
    }
   ],
   "source": [
    "#r \"nuget: Microsoft.SemanticKernel, *-*\"\n",
    "\n",
    "#!import ../config/Settings.cs\n",
    "\n",
    "using Microsoft.SemanticKernel;\n",
    "using Microsoft.SemanticKernel.KernelExtensions;\n",
    "using System.IO;\n",
    "using Microsoft.SemanticKernel.Configuration;\n",
    "using Microsoft.SemanticKernel.SemanticFunctions;\n",
    "\n",
    "IKernel kernel = Microsoft.SemanticKernel.Kernel.Builder.Build();\n",
    "\n",
    "// Grab the locally stored credentials from the settings.json file. Name the \"backend\" as \"davinci\" — assuming that you're using one of the davinci completion models. \n",
    "\n",
    "var (useAzureOpenAI, model, azureEndpoint, apiKey, orgId) = Settings.LoadFromFile();\n",
    "\n",
    "if (useAzureOpenAI)\n",
    "    kernel.Config.AddAzureOpenAICompletionBackend(\"davinci\", model, azureEndpoint, apiKey);\n",
    "else\n",
    "    kernel.Config.AddOpenAICompletionBackend(\"davinci\", model, apiKey, orgId);"
   ]
  },
  {
   "attachments": {},
   "cell_type": "markdown",
   "metadata": {},
   "source": [
    "😱 **Get an error message?** The most common error is accidentally resetting your credentials file, or setting it up with the wrong information. Look at the 'settings.json' file in your config directory to make sure your settings make sense. And if you're still stuck, go to https://aka.ms/sk/discord where we have realtime support."
   ]
  },
  {
   "attachments": {},
   "cell_type": "markdown",
   "metadata": {},
   "source": [
    "## 3️⃣ Run a semantic function in Semantic Kernel\n",
    "\n",
    "Before you set off to write a semantic function, review our documentation on semantic functions at our [learning hub](https://learn.microsoft.com/en-us/semantic-kernel/howto/semanticfunctions). You'll want to feel comfortable with two ideas:\n",
    "\n",
    "* Creating a parameterized prompt with one variable — `$input` is the default input variable — that you can learn more about [here](https://learn.microsoft.com/semantic-kernel/howto/semanticfunctions#writing-a-more-powerful-templated-prompt).\n",
    "\n",
    "* Configuring your prompt with a few standard settings — `MaxTokens`, `Temperature`, `TopP` — that you can learn more about [here](https://learn.microsoft.com/en-us/semantic-kernel/howto/configuringfunctions).\n",
    "\n",
    "You are just three more steps to running a semantic function. Get ready!"
   ]
  },
  {
   "attachments": {},
   "cell_type": "markdown",
   "metadata": {},
   "source": [
    "### ① 💬 Define a parameterized prompt that takes a single input"
   ]
  },
  {
   "cell_type": "code",
   "execution_count": 10,
   "metadata": {
    "dotnet_interactive": {
     "language": "csharp"
    },
    "polyglot_notebook": {
     "kernelName": "csharp"
    }
   },
   "outputs": [],
   "source": [
    "string skPrompt = \"\"\"\n",
    "{{$input}}\n",
    "\n",
    "Summarize the content above in less than 140 characters.\n",
    "\"\"\";"
   ]
  },
  {
   "attachments": {},
   "cell_type": "markdown",
   "metadata": {},
   "source": [
    "### ② 🌡️ Tune the prompt to have a more deterministic or less deterministic behavior\n",
    "\n",
    "The `MaxTokens` setting determines how much processing latitude you're giving to the model — the smaller it is, the less likely it will be to complete your ask. It's the single most important [setting](https://learn.microsoft.com/en-us/semantic-kernel/howto/configuringfunctions) for you to know because it impacts how much you are spending with each request.\n",
    "\n",
    "Also, you can subtly shape the output of the response with the other two parameters. To make the response more or less \"creative,\" tweak the `Temperature` setting between 0 (straight ball) and 1 (curve ball). You can also set the `TopP` setting between 0 (smaller vocabulary) and 1 (larger vocabulary) for a different kind of result."
   ]
  },
  {
   "cell_type": "code",
   "execution_count": 11,
   "metadata": {
    "dotnet_interactive": {
     "language": "csharp"
    },
    "polyglot_notebook": {
     "kernelName": "csharp"
    }
   },
   "outputs": [],
   "source": [
    "using Microsoft.SemanticKernel.KernelExtensions;\n",
    "\n",
    "var promptConfig = new PromptTemplateConfig\n",
    "{\n",
    "    Completion =\n",
    "    {\n",
    "        MaxTokens = 1000, Temperature = 0.2, TopP = 0.5,\n",
    "    }\n",
    "};\n",
    "\n",
    "var promptTemplate = new PromptTemplate(\n",
    "    skPrompt, promptConfig, kernel\n",
    ");\n",
    "\n",
    "var functionConfig = new SemanticFunctionConfig(promptConfig, promptTemplate);\n",
    "\n",
    "var summaryFunction = kernel.RegisterSemanticFunction(\"MySkill\", \"Summary\", functionConfig);\n"
   ]
  },
  {
   "attachments": {},
   "cell_type": "markdown",
   "metadata": {},
   "source": [
    "### ③ 🏃‍♂️ Set your input to the templated prompt and have the kernel process it"
   ]
  },
  {
   "cell_type": "code",
   "execution_count": 12,
   "metadata": {
    "dotnet_interactive": {
     "language": "csharp"
    },
    "polyglot_notebook": {
     "kernelName": "csharp"
    }
   },
   "outputs": [
    {
     "name": "stdout",
     "output_type": "stream",
     "text": [
      "\n",
      "\n",
      "2023 is predicted to be the most exciting year for AI yet, with generative AI tools like GPT-3 and DALL-E 2 creating new works and changing the way we work and play.\n"
     ]
    }
   ],
   "source": [
    "\n",
    "var input = \"\"\"\n",
    "“I think with some confidence I can say that 2023 is going to be the most exciting year that \n",
    "the AI community has ever had,” writes Kevin Scott, chief technology officer at Microsoft, \n",
    "in a Q&A on the company’s AI blog. He acknowledges that he also thought 2022 was the most \n",
    "exciting year for AI, but he believes that the pace of innovation is only increasing. \n",
    "This is particularly true with generative AI, which doesn’t simply analyze large data sets \n",
    "but is a tool people can use to create entirely new works. We can already see its promise \n",
    "in systems like GPT-3, which can do anything from helping copyedit and summarize text to \n",
    "providing inspiration, and DALL-E 2, which can create useful and arresting works of art \n",
    "based on text inputs. Here are some of Scott’s predictions about how AI will change the \n",
    "way we work and play.\n",
    "\"\"\";\n",
    "// Text source: https://www.microsoft.com/en-us/worklab/kevin-scott-on-5-ways-generative-ai-will-transform-work-in-2023\n",
    "\n",
    "var summary = await kernel.RunAsync(input, summaryFunction);\n",
    "\n",
    "Console.WriteLine(summary);"
   ]
  },
  {
   "attachments": {},
   "cell_type": "markdown",
   "metadata": {},
   "source": [
    "🎉 You've made your first Semantic Kernel semantic function. Congratulations!\n",
    "\n",
    "😱 **Get an error message?** If you can't see a summarization of the text above, then go to https://aka.ms/sk/discord where we have realtime support available to troubleshoot your problem."
   ]
  },
  {
   "attachments": {},
   "cell_type": "markdown",
   "metadata": {},
   "source": [
    "# ⏭️ Next Steps\n",
    "\n",
    "Run through more advanced examples in the notebooks that are available in our GitHub repo at [https://aka.ms/sk/repo](https://aka.ms/sk/repo).\n",
    "\n",
    "Or stay a longer while and change the prompt above to your liking; and also the `$input` and other parameters to your liking. Please keep in mind that each API call to OpenAI or Azure OpenAI Services will use up tokens."
   ]
  }
 ],
 "metadata": {
  "kernelspec": {
   "display_name": ".NET (C#)",
   "language": "C#",
   "name": ".net-csharp"
  },
  "language_info": {
   "name": "polyglot-notebook"
  },
  "polyglot_notebook": {
   "kernelInfo": {
    "defaultKernelName": "csharp",
    "items": [
     {
      "aliases": [],
      "languageName": "csharp",
      "name": "csharp"
     }
    ]
   }
  }
 },
 "nbformat": 4,
 "nbformat_minor": 2
}
